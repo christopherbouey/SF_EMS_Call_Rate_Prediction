{
 "cells": [
  {
   "cell_type": "code",
   "execution_count": 1,
   "metadata": {},
   "outputs": [],
   "source": [
    "import pandas as pd\n",
    "import numpy as np\n",
    "import random\n",
    "from datetime import timedelta\n",
    "import seaborn as sns"
   ]
  },
  {
   "cell_type": "code",
   "execution_count": 2,
   "metadata": {},
   "outputs": [],
   "source": [
    "import boto3\n",
    "import matplotlib.pyplot as plt"
   ]
  },
  {
   "cell_type": "code",
   "execution_count": 3,
   "metadata": {},
   "outputs": [],
   "source": [
    "s3 = boto3.client('s3')"
   ]
  },
  {
   "cell_type": "code",
   "execution_count": 5,
   "metadata": {},
   "outputs": [],
   "source": [
    "file = s3.get_object(Bucket='sf-ems-analysis', Key='woring_3h_lim.csv')"
   ]
  },
  {
   "cell_type": "code",
   "execution_count": 6,
   "metadata": {},
   "outputs": [],
   "source": [
    "df = pd.read_csv(file['Body'])"
   ]
  },
  {
   "cell_type": "code",
   "execution_count": 10,
   "metadata": {},
   "outputs": [],
   "source": [
    "df.set_index(keys=df['Received DtTm'], inplace = True)"
   ]
  },
  {
   "cell_type": "code",
   "execution_count": 12,
   "metadata": {},
   "outputs": [],
   "source": [
    "df.drop(columns=['Received DtTm'], inplace = True)"
   ]
  },
  {
   "cell_type": "code",
   "execution_count": 13,
   "metadata": {},
   "outputs": [
    {
     "data": {
      "text/html": [
       "<div>\n",
       "<style scoped>\n",
       "    .dataframe tbody tr th:only-of-type {\n",
       "        vertical-align: middle;\n",
       "    }\n",
       "\n",
       "    .dataframe tbody tr th {\n",
       "        vertical-align: top;\n",
       "    }\n",
       "\n",
       "    .dataframe thead th {\n",
       "        text-align: right;\n",
       "    }\n",
       "</style>\n",
       "<table border=\"1\" class=\"dataframe\">\n",
       "  <thead>\n",
       "    <tr style=\"text-align: right;\">\n",
       "      <th></th>\n",
       "      <th>Call Type</th>\n",
       "    </tr>\n",
       "    <tr>\n",
       "      <th>Received DtTm</th>\n",
       "      <th></th>\n",
       "    </tr>\n",
       "  </thead>\n",
       "  <tbody>\n",
       "    <tr>\n",
       "      <th>2010-01-01 00:00:00</th>\n",
       "      <td>116</td>\n",
       "    </tr>\n",
       "    <tr>\n",
       "      <th>2010-01-01 03:00:00</th>\n",
       "      <td>48</td>\n",
       "    </tr>\n",
       "    <tr>\n",
       "      <th>2010-01-01 06:00:00</th>\n",
       "      <td>25</td>\n",
       "    </tr>\n",
       "    <tr>\n",
       "      <th>2010-01-01 09:00:00</th>\n",
       "      <td>37</td>\n",
       "    </tr>\n",
       "    <tr>\n",
       "      <th>2010-01-01 12:00:00</th>\n",
       "      <td>42</td>\n",
       "    </tr>\n",
       "    <tr>\n",
       "      <th>...</th>\n",
       "      <td>...</td>\n",
       "    </tr>\n",
       "    <tr>\n",
       "      <th>2019-12-31 09:00:00</th>\n",
       "      <td>60</td>\n",
       "    </tr>\n",
       "    <tr>\n",
       "      <th>2019-12-31 12:00:00</th>\n",
       "      <td>81</td>\n",
       "    </tr>\n",
       "    <tr>\n",
       "      <th>2019-12-31 15:00:00</th>\n",
       "      <td>63</td>\n",
       "    </tr>\n",
       "    <tr>\n",
       "      <th>2019-12-31 18:00:00</th>\n",
       "      <td>70</td>\n",
       "    </tr>\n",
       "    <tr>\n",
       "      <th>2019-12-31 21:00:00</th>\n",
       "      <td>86</td>\n",
       "    </tr>\n",
       "  </tbody>\n",
       "</table>\n",
       "<p>29216 rows × 1 columns</p>\n",
       "</div>"
      ],
      "text/plain": [
       "                     Call Type\n",
       "Received DtTm                 \n",
       "2010-01-01 00:00:00        116\n",
       "2010-01-01 03:00:00         48\n",
       "2010-01-01 06:00:00         25\n",
       "2010-01-01 09:00:00         37\n",
       "2010-01-01 12:00:00         42\n",
       "...                        ...\n",
       "2019-12-31 09:00:00         60\n",
       "2019-12-31 12:00:00         81\n",
       "2019-12-31 15:00:00         63\n",
       "2019-12-31 18:00:00         70\n",
       "2019-12-31 21:00:00         86\n",
       "\n",
       "[29216 rows x 1 columns]"
      ]
     },
     "execution_count": 13,
     "metadata": {},
     "output_type": "execute_result"
    }
   ],
   "source": [
    "df"
   ]
  },
  {
   "cell_type": "code",
   "execution_count": null,
   "metadata": {},
   "outputs": [],
   "source": [
    "#df.set_index(keys=df['Received DtTm'], inplace=True)"
   ]
  },
  {
   "cell_type": "code",
   "execution_count": null,
   "metadata": {},
   "outputs": [],
   "source": [
    "#df.sort_index(inplace=True)\n",
    "#df"
   ]
  },
  {
   "cell_type": "code",
   "execution_count": null,
   "metadata": {},
   "outputs": [],
   "source": [
    "#df_no_dup = df.drop_duplicates(subset=['Call Number'])"
   ]
  },
  {
   "cell_type": "code",
   "execution_count": null,
   "metadata": {},
   "outputs": [],
   "source": [
    "#break up by neighborhood\n",
    "neighborhoods = {}\n",
    "for i, j in enumerate(df_no_dup['Neighborhooods - Analysis Boundaries'].unique()):\n",
    "    neighborhoods[i] = j\n",
    "\n",
    "neigh_df = {}    \n",
    "for k, l in enumerate(df_no_dup['Neighborhooods - Analysis Boundaries'].unique()):\n",
    "    neigh_df[k] = df_no_dup[df_no_dup['Neighborhooods - Analysis Boundaries'] == l]"
   ]
  },
  {
   "cell_type": "code",
   "execution_count": null,
   "metadata": {},
   "outputs": [],
   "source": [
    "#working_hours = df_no_dup['Call Type'].resample('3H').count()"
   ]
  },
  {
   "cell_type": "code",
   "execution_count": null,
   "metadata": {},
   "outputs": [],
   "source": [
    "#working_hours.to_csv('3H_incre.csv')"
   ]
  },
  {
   "cell_type": "code",
   "execution_count": null,
   "metadata": {},
   "outputs": [],
   "source": [
    "#df_no_dup.to_csv('EMS_no_dup.csv')"
   ]
  },
  {
   "cell_type": "code",
   "execution_count": null,
   "metadata": {},
   "outputs": [],
   "source": [
    "#s3.upload_file(Filename='3H_incre.csv',\n",
    "#              Bucket='sf-ems-analysis',\n",
    "#              Key='3H_incre.csv')"
   ]
  },
  {
   "cell_type": "code",
   "execution_count": null,
   "metadata": {},
   "outputs": [],
   "source": [
    "#s3.upload_file(Filename='EMS_no_dup.csv',\n",
    "#              Bucket='sf-ems-analysis',\n",
    "#              Key='EMS_no_dup.csv')"
   ]
  },
  {
   "cell_type": "code",
   "execution_count": null,
   "metadata": {},
   "outputs": [],
   "source": [
    "#np.where(working_hours.index.year == 2020)[0]"
   ]
  },
  {
   "cell_type": "code",
   "execution_count": null,
   "metadata": {},
   "outputs": [],
   "source": [
    "#np.where(working_hours.index.year == 2009)[0]"
   ]
  },
  {
   "cell_type": "code",
   "execution_count": null,
   "metadata": {},
   "outputs": [],
   "source": [
    "#working_hours_lim = working_hours[28401:57617]"
   ]
  },
  {
   "cell_type": "code",
   "execution_count": null,
   "metadata": {},
   "outputs": [],
   "source": [
    "#working_hours_lim.sort_values(ascending=False)[:20]"
   ]
  },
  {
   "cell_type": "code",
   "execution_count": null,
   "metadata": {},
   "outputs": [],
   "source": [
    "#working_hours_lim.to_csv('working_3h_lim.csv')"
   ]
  },
  {
   "cell_type": "code",
   "execution_count": null,
   "metadata": {},
   "outputs": [],
   "source": [
    "#s3.upload_file(Filename='working_3h_lim.csv',\n",
    "#              Bucket='sf-ems-analysis',\n",
    "#              Key='woring_3h_lim.csv')"
   ]
  },
  {
   "cell_type": "markdown",
   "metadata": {},
   "source": [
    "## SARIMAX"
   ]
  },
  {
   "cell_type": "code",
   "execution_count": null,
   "metadata": {},
   "outputs": [],
   "source": []
  },
  {
   "cell_type": "code",
   "execution_count": 8,
   "metadata": {},
   "outputs": [],
   "source": [
    "from scipy import signal\n",
    "from scipy import stats\n",
    "\n",
    "import statsmodels.api as sm\n",
    "from statsmodels.tsa.arima_model import ARIMA\n",
    "from statsmodels.tsa.arima_process import ArmaProcess\n",
    "from statsmodels.tsa.statespace.sarimax import SARIMAX"
   ]
  },
  {
   "cell_type": "code",
   "execution_count": 14,
   "metadata": {},
   "outputs": [
    {
     "data": {
      "image/png": "[encoded data removed]",
      "text/plain": [
       "<Figure size 432x288 with 1 Axes>"
      ]
     },
     "execution_count": 14,
     "metadata": {},
     "output_type": "execute_result"
    },
    {
     "data": {
      "image/png": "[encoded data removed]",
      "text/plain": [
       "<Figure size 432x288 with 1 Axes>"
      ]
     },
     "metadata": {
      "needs_background": "light"
     },
     "output_type": "display_data"
    }
   ],
   "source": [
    "sm.graphics.tsa.plot_acf(df.diff()[2:], lags=32, alpha = 0.05)"
   ]
  },
  {
   "cell_type": "code",
   "execution_count": 15,
   "metadata": {},
   "outputs": [
    {
     "data": {
      "image/png": "[encoded data removed]",
      "text/plain": [
       "<Figure size 432x288 with 1 Axes>"
      ]
     },
     "execution_count": 15,
     "metadata": {},
     "output_type": "execute_result"
    },
    {
     "data": {
      "image/png": "[encoded data removed]",
      "text/plain": [
       "<Figure size 432x288 with 1 Axes>"
      ]
     },
     "metadata": {
      "needs_background": "light"
     },
     "output_type": "display_data"
    }
   ],
   "source": [
    "sm.graphics.tsa.plot_acf(df.diff()[2:], lags=32, alpha = 0.05)"
   ]
  },
  {
   "cell_type": "code",
   "execution_count": 16,
   "metadata": {},
   "outputs": [
    {
     "name": "stderr",
     "output_type": "stream",
     "text": [
      "/home/ec2-user/anaconda3/envs/python3/lib/python3.6/site-packages/statsmodels/tsa/base/tsa_model.py:162: ValueWarning: No frequency information was provided, so inferred frequency 3H will be used.\n",
      "  % freq, ValueWarning)\n",
      "/home/ec2-user/anaconda3/envs/python3/lib/python3.6/site-packages/statsmodels/tsa/base/tsa_model.py:162: ValueWarning: No frequency information was provided, so inferred frequency 3H will be used.\n",
      "  % freq, ValueWarning)\n"
     ]
    }
   ],
   "source": [
    "model = SARIMAX(df, order=(0,1,0), seasonal_order=(2,1,1,12), trend='c')"
   ]
  },
  {
   "cell_type": "code",
   "execution_count": 17,
   "metadata": {},
   "outputs": [],
   "source": [
    "model_fit = model.fit()"
   ]
  },
  {
   "cell_type": "code",
   "execution_count": 18,
   "metadata": {},
   "outputs": [
    {
     "data": {
      "text/html": [
       "<table class=\"simpletable\">\n",
       "<caption>SARIMAX Results</caption>\n",
       "<tr>\n",
       "  <th>Dep. Variable:</th>               <td>Call Type</td>            <th>  No. Observations:  </th>    <td>29216</td>   \n",
       "</tr>\n",
       "<tr>\n",
       "  <th>Model:</th>           <td>SARIMAX(0, 1, 0)x(2, 1, [1], 12)</td> <th>  Log Likelihood     </th> <td>-115255.831</td>\n",
       "</tr>\n",
       "<tr>\n",
       "  <th>Date:</th>                    <td>Thu, 27 Aug 2020</td>         <th>  AIC                </th> <td>230521.662</td> \n",
       "</tr>\n",
       "<tr>\n",
       "  <th>Time:</th>                        <td>16:31:28</td>             <th>  BIC                </th> <td>230563.072</td> \n",
       "</tr>\n",
       "<tr>\n",
       "  <th>Sample:</th>                     <td>01-01-2010</td>            <th>  HQIC               </th> <td>230534.966</td> \n",
       "</tr>\n",
       "<tr>\n",
       "  <th></th>                           <td>- 12-31-2019</td>           <th>                     </th>      <td> </td>     \n",
       "</tr>\n",
       "<tr>\n",
       "  <th>Covariance Type:</th>                <td>opg</td>               <th>                     </th>      <td> </td>     \n",
       "</tr>\n",
       "</table>\n",
       "<table class=\"simpletable\">\n",
       "<tr>\n",
       "      <td></td>         <th>coef</th>     <th>std err</th>      <th>z</th>      <th>P>|z|</th>  <th>[0.025</th>    <th>0.975]</th>  \n",
       "</tr>\n",
       "<tr>\n",
       "  <th>intercept</th> <td>  9.58e-06</td> <td>    0.000</td> <td>    0.045</td> <td> 0.964</td> <td>   -0.000</td> <td>    0.000</td>\n",
       "</tr>\n",
       "<tr>\n",
       "  <th>ar.S.L12</th>  <td>   -0.3324</td> <td>    0.005</td> <td>  -66.966</td> <td> 0.000</td> <td>   -0.342</td> <td>   -0.323</td>\n",
       "</tr>\n",
       "<tr>\n",
       "  <th>ar.S.L24</th>  <td>    0.2788</td> <td>    0.005</td> <td>   54.311</td> <td> 0.000</td> <td>    0.269</td> <td>    0.289</td>\n",
       "</tr>\n",
       "<tr>\n",
       "  <th>ma.S.L12</th>  <td>   -0.9976</td> <td>    0.000</td> <td>-2018.218</td> <td> 0.000</td> <td>   -0.999</td> <td>   -0.997</td>\n",
       "</tr>\n",
       "<tr>\n",
       "  <th>sigma2</th>    <td>  156.5144</td> <td>    0.938</td> <td>  166.830</td> <td> 0.000</td> <td>  154.676</td> <td>  158.353</td>\n",
       "</tr>\n",
       "</table>\n",
       "<table class=\"simpletable\">\n",
       "<tr>\n",
       "  <th>Ljung-Box (Q):</th>          <td>8845.88</td> <th>  Jarque-Bera (JB):  </th> <td>4042.86</td>\n",
       "</tr>\n",
       "<tr>\n",
       "  <th>Prob(Q):</th>                 <td>0.00</td>   <th>  Prob(JB):          </th>  <td>0.00</td>  \n",
       "</tr>\n",
       "<tr>\n",
       "  <th>Heteroskedasticity (H):</th>  <td>1.22</td>   <th>  Skew:              </th>  <td>-0.01</td> \n",
       "</tr>\n",
       "<tr>\n",
       "  <th>Prob(H) (two-sided):</th>     <td>0.00</td>   <th>  Kurtosis:          </th>  <td>4.82</td>  \n",
       "</tr>\n",
       "</table><br/><br/>Warnings:<br/>[1] Covariance matrix calculated using the outer product of gradients (complex-step)."
      ],
      "text/plain": [
       "<class 'statsmodels.iolib.summary.Summary'>\n",
       "\"\"\"\n",
       "                                      SARIMAX Results                                       \n",
       "============================================================================================\n",
       "Dep. Variable:                            Call Type   No. Observations:                29216\n",
       "Model:             SARIMAX(0, 1, 0)x(2, 1, [1], 12)   Log Likelihood             -115255.831\n",
       "Date:                              Thu, 27 Aug 2020   AIC                         230521.662\n",
       "Time:                                      16:31:28   BIC                         230563.072\n",
       "Sample:                                  01-01-2010   HQIC                        230534.966\n",
       "                                       - 12-31-2019                                         \n",
       "Covariance Type:                                opg                                         \n",
       "==============================================================================\n",
       "                 coef    std err          z      P>|z|      [0.025      0.975]\n",
       "------------------------------------------------------------------------------\n",
       "intercept    9.58e-06      0.000      0.045      0.964      -0.000       0.000\n",
       "ar.S.L12      -0.3324      0.005    -66.966      0.000      -0.342      -0.323\n",
       "ar.S.L24       0.2788      0.005     54.311      0.000       0.269       0.289\n",
       "ma.S.L12      -0.9976      0.000  -2018.218      0.000      -0.999      -0.997\n",
       "sigma2       156.5144      0.938    166.830      0.000     154.676     158.353\n",
       "===================================================================================\n",
       "Ljung-Box (Q):                     8845.88   Jarque-Bera (JB):              4042.86\n",
       "Prob(Q):                              0.00   Prob(JB):                         0.00\n",
       "Heteroskedasticity (H):               1.22   Skew:                            -0.01\n",
       "Prob(H) (two-sided):                  0.00   Kurtosis:                         4.82\n",
       "===================================================================================\n",
       "\n",
       "Warnings:\n",
       "[1] Covariance matrix calculated using the outer product of gradients (complex-step).\n",
       "\"\"\""
      ]
     },
     "execution_count": 18,
     "metadata": {},
     "output_type": "execute_result"
    }
   ],
   "source": [
    "model_fit.summary()"
   ]
  },
  {
   "cell_type": "code",
   "execution_count": 21,
   "metadata": {},
   "outputs": [
    {
     "name": "stderr",
     "output_type": "stream",
     "text": [
      "/home/ec2-user/anaconda3/envs/python3/lib/python3.6/site-packages/statsmodels/tsa/base/tsa_model.py:162: ValueWarning: No frequency information was provided, so inferred frequency 3H will be used.\n",
      "  % freq, ValueWarning)\n",
      "/home/ec2-user/anaconda3/envs/python3/lib/python3.6/site-packages/statsmodels/tsa/base/tsa_model.py:162: ValueWarning: No frequency information was provided, so inferred frequency 3H will be used.\n",
      "  % freq, ValueWarning)\n"
     ]
    }
   ],
   "source": [
    "model1 = SARIMAX(df, order=(0,1,0), seasonal_order=(3,1,2,12), trend='c')"
   ]
  },
  {
   "cell_type": "code",
   "execution_count": 22,
   "metadata": {},
   "outputs": [
    {
     "name": "stderr",
     "output_type": "stream",
     "text": [
      "/home/ec2-user/anaconda3/envs/python3/lib/python3.6/site-packages/statsmodels/base/model.py:568: ConvergenceWarning: Maximum Likelihood optimization failed to converge. Check mle_retvals\n",
      "  \"Check mle_retvals\", ConvergenceWarning)\n"
     ]
    }
   ],
   "source": [
    "model_fit1 = model1.fit()"
   ]
  },
  {
   "cell_type": "code",
   "execution_count": 23,
   "metadata": {},
   "outputs": [
    {
     "data": {
      "text/html": [
       "<table class=\"simpletable\">\n",
       "<caption>SARIMAX Results</caption>\n",
       "<tr>\n",
       "  <th>Dep. Variable:</th>                <td>Call Type</td>              <th>  No. Observations:  </th>    <td>29216</td>   \n",
       "</tr>\n",
       "<tr>\n",
       "  <th>Model:</th>           <td>SARIMAX(0, 1, 0)x(3, 1, [1, 2], 12)</td> <th>  Log Likelihood     </th> <td>-111528.391</td>\n",
       "</tr>\n",
       "<tr>\n",
       "  <th>Date:</th>                     <td>Thu, 27 Aug 2020</td>           <th>  AIC                </th> <td>223070.782</td> \n",
       "</tr>\n",
       "<tr>\n",
       "  <th>Time:</th>                         <td>17:01:17</td>               <th>  BIC                </th> <td>223128.756</td> \n",
       "</tr>\n",
       "<tr>\n",
       "  <th>Sample:</th>                      <td>01-01-2010</td>              <th>  HQIC               </th> <td>223089.407</td> \n",
       "</tr>\n",
       "<tr>\n",
       "  <th></th>                            <td>- 12-31-2019</td>             <th>                     </th>      <td> </td>     \n",
       "</tr>\n",
       "<tr>\n",
       "  <th>Covariance Type:</th>                 <td>opg</td>                 <th>                     </th>      <td> </td>     \n",
       "</tr>\n",
       "</table>\n",
       "<table class=\"simpletable\">\n",
       "<tr>\n",
       "      <td></td>         <th>coef</th>     <th>std err</th>      <th>z</th>      <th>P>|z|</th>  <th>[0.025</th>    <th>0.975]</th>  \n",
       "</tr>\n",
       "<tr>\n",
       "  <th>intercept</th> <td>    0.0003</td> <td>    0.000</td> <td>    1.509</td> <td> 0.131</td> <td>-8.15e-05</td> <td>    0.001</td>\n",
       "</tr>\n",
       "<tr>\n",
       "  <th>ar.S.L12</th>  <td>   -0.9708</td> <td>    0.006</td> <td> -157.496</td> <td> 0.000</td> <td>   -0.983</td> <td>   -0.959</td>\n",
       "</tr>\n",
       "<tr>\n",
       "  <th>ar.S.L24</th>  <td>   -0.0430</td> <td>    0.008</td> <td>   -5.304</td> <td> 0.000</td> <td>   -0.059</td> <td>   -0.027</td>\n",
       "</tr>\n",
       "<tr>\n",
       "  <th>ar.S.L36</th>  <td>   -0.0659</td> <td>    0.006</td> <td>  -10.930</td> <td> 0.000</td> <td>   -0.078</td> <td>   -0.054</td>\n",
       "</tr>\n",
       "<tr>\n",
       "  <th>ma.S.L12</th>  <td>   -0.0515</td> <td>    0.003</td> <td>  -17.148</td> <td> 0.000</td> <td>   -0.057</td> <td>   -0.046</td>\n",
       "</tr>\n",
       "<tr>\n",
       "  <th>ma.S.L24</th>  <td>   -0.9479</td> <td>    0.003</td> <td> -314.016</td> <td> 0.000</td> <td>   -0.954</td> <td>   -0.942</td>\n",
       "</tr>\n",
       "<tr>\n",
       "  <th>sigma2</th>    <td>  122.0604</td> <td>    0.636</td> <td>  191.867</td> <td> 0.000</td> <td>  120.814</td> <td>  123.307</td>\n",
       "</tr>\n",
       "</table>\n",
       "<table class=\"simpletable\">\n",
       "<tr>\n",
       "  <th>Ljung-Box (Q):</th>          <td>4558.06</td> <th>  Jarque-Bera (JB):  </th> <td>13617.61</td>\n",
       "</tr>\n",
       "<tr>\n",
       "  <th>Prob(Q):</th>                 <td>0.00</td>   <th>  Prob(JB):          </th>   <td>0.00</td>  \n",
       "</tr>\n",
       "<tr>\n",
       "  <th>Heteroskedasticity (H):</th>  <td>1.21</td>   <th>  Skew:              </th>   <td>0.01</td>  \n",
       "</tr>\n",
       "<tr>\n",
       "  <th>Prob(H) (two-sided):</th>     <td>0.00</td>   <th>  Kurtosis:          </th>   <td>6.35</td>  \n",
       "</tr>\n",
       "</table><br/><br/>Warnings:<br/>[1] Covariance matrix calculated using the outer product of gradients (complex-step)."
      ],
      "text/plain": [
       "<class 'statsmodels.iolib.summary.Summary'>\n",
       "\"\"\"\n",
       "                                        SARIMAX Results                                        \n",
       "===============================================================================================\n",
       "Dep. Variable:                               Call Type   No. Observations:                29216\n",
       "Model:             SARIMAX(0, 1, 0)x(3, 1, [1, 2], 12)   Log Likelihood             -111528.391\n",
       "Date:                                 Thu, 27 Aug 2020   AIC                         223070.782\n",
       "Time:                                         17:01:17   BIC                         223128.756\n",
       "Sample:                                     01-01-2010   HQIC                        223089.407\n",
       "                                          - 12-31-2019                                         \n",
       "Covariance Type:                                   opg                                         \n",
       "==============================================================================\n",
       "                 coef    std err          z      P>|z|      [0.025      0.975]\n",
       "------------------------------------------------------------------------------\n",
       "intercept      0.0003      0.000      1.509      0.131   -8.15e-05       0.001\n",
       "ar.S.L12      -0.9708      0.006   -157.496      0.000      -0.983      -0.959\n",
       "ar.S.L24      -0.0430      0.008     -5.304      0.000      -0.059      -0.027\n",
       "ar.S.L36      -0.0659      0.006    -10.930      0.000      -0.078      -0.054\n",
       "ma.S.L12      -0.0515      0.003    -17.148      0.000      -0.057      -0.046\n",
       "ma.S.L24      -0.9479      0.003   -314.016      0.000      -0.954      -0.942\n",
       "sigma2       122.0604      0.636    191.867      0.000     120.814     123.307\n",
       "===================================================================================\n",
       "Ljung-Box (Q):                     4558.06   Jarque-Bera (JB):             13617.61\n",
       "Prob(Q):                              0.00   Prob(JB):                         0.00\n",
       "Heteroskedasticity (H):               1.21   Skew:                             0.01\n",
       "Prob(H) (two-sided):                  0.00   Kurtosis:                         6.35\n",
       "===================================================================================\n",
       "\n",
       "Warnings:\n",
       "[1] Covariance matrix calculated using the outer product of gradients (complex-step).\n",
       "\"\"\""
      ]
     },
     "execution_count": 23,
     "metadata": {},
     "output_type": "execute_result"
    }
   ],
   "source": [
    "model_fit1.summary()"
   ]
  },
  {
   "cell_type": "code",
   "execution_count": 30,
   "metadata": {},
   "outputs": [],
   "source": [
    "df.index = pd.to_datetime(df.index)\n"
   ]
  },
  {
   "cell_type": "code",
   "execution_count": 35,
   "metadata": {},
   "outputs": [
    {
     "data": {
      "text/plain": [
       "(array([17528, 17529, 17530, ..., 20453, 20454, 20455]),)"
      ]
     },
     "execution_count": 35,
     "metadata": {},
     "output_type": "execute_result"
    }
   ],
   "source": [
    "np.where(df.index.year == 2016)"
   ]
  },
  {
   "cell_type": "code",
   "execution_count": 36,
   "metadata": {},
   "outputs": [
    {
     "data": {
      "text/plain": [
       "(array([23376, 23377, 23378, ..., 26293, 26294, 26295]),)"
      ]
     },
     "execution_count": 36,
     "metadata": {},
     "output_type": "execute_result"
    }
   ],
   "source": [
    "np.where(df.index.year == 2018)"
   ]
  },
  {
   "cell_type": "code",
   "execution_count": 140,
   "metadata": {},
   "outputs": [
    {
     "name": "stderr",
     "output_type": "stream",
     "text": [
      "/home/ec2-user/anaconda3/envs/python3/lib/python3.6/site-packages/statsmodels/tsa/base/tsa_model.py:162: ValueWarning:\n",
      "\n",
      "No frequency information was provided, so inferred frequency 3H will be used.\n",
      "\n",
      "/home/ec2-user/anaconda3/envs/python3/lib/python3.6/site-packages/statsmodels/tsa/base/tsa_model.py:162: ValueWarning:\n",
      "\n",
      "No frequency information was provided, so inferred frequency 3H will be used.\n",
      "\n"
     ]
    }
   ],
   "source": [
    "model2 = SARIMAX(df[19352:25192], order=(0,1,0), seasonal_order=(3,1,1,8), trend='c')"
   ]
  },
  {
   "cell_type": "code",
   "execution_count": 141,
   "metadata": {},
   "outputs": [],
   "source": [
    "model_fit2 = model2.fit()"
   ]
  },
  {
   "cell_type": "code",
   "execution_count": 142,
   "metadata": {},
   "outputs": [
    {
     "data": {
      "text/html": [
       "<table class=\"simpletable\">\n",
       "<caption>SARIMAX Results</caption>\n",
       "<tr>\n",
       "  <th>Dep. Variable:</th>              <td>Call Type</td>            <th>  No. Observations:  </th>    <td>5840</td>   \n",
       "</tr>\n",
       "<tr>\n",
       "  <th>Model:</th>           <td>SARIMAX(0, 1, 0)x(3, 1, [1], 8)</td> <th>  Log Likelihood     </th> <td>-22396.672</td>\n",
       "</tr>\n",
       "<tr>\n",
       "  <th>Date:</th>                   <td>Thu, 27 Aug 2020</td>         <th>  AIC                </th>  <td>44805.343</td>\n",
       "</tr>\n",
       "<tr>\n",
       "  <th>Time:</th>                       <td>21:21:34</td>             <th>  BIC                </th>  <td>44845.369</td>\n",
       "</tr>\n",
       "<tr>\n",
       "  <th>Sample:</th>                    <td>08-16-2016</td>            <th>  HQIC               </th>  <td>44819.263</td>\n",
       "</tr>\n",
       "<tr>\n",
       "  <th></th>                          <td>- 08-15-2018</td>           <th>                     </th>      <td> </td>    \n",
       "</tr>\n",
       "<tr>\n",
       "  <th>Covariance Type:</th>               <td>opg</td>               <th>                     </th>      <td> </td>    \n",
       "</tr>\n",
       "</table>\n",
       "<table class=\"simpletable\">\n",
       "<tr>\n",
       "      <td></td>         <th>coef</th>     <th>std err</th>      <th>z</th>      <th>P>|z|</th>  <th>[0.025</th>    <th>0.975]</th>  \n",
       "</tr>\n",
       "<tr>\n",
       "  <th>intercept</th> <td>-3.244e-05</td> <td>    0.001</td> <td>   -0.042</td> <td> 0.966</td> <td>   -0.002</td> <td>    0.001</td>\n",
       "</tr>\n",
       "<tr>\n",
       "  <th>ar.S.L8</th>   <td>    0.0485</td> <td>    0.012</td> <td>    4.020</td> <td> 0.000</td> <td>    0.025</td> <td>    0.072</td>\n",
       "</tr>\n",
       "<tr>\n",
       "  <th>ar.S.L16</th>  <td>   -0.0242</td> <td>    0.013</td> <td>   -1.869</td> <td> 0.062</td> <td>   -0.050</td> <td>    0.001</td>\n",
       "</tr>\n",
       "<tr>\n",
       "  <th>ar.S.L24</th>  <td>   -0.0457</td> <td>    0.013</td> <td>   -3.623</td> <td> 0.000</td> <td>   -0.070</td> <td>   -0.021</td>\n",
       "</tr>\n",
       "<tr>\n",
       "  <th>ma.S.L8</th>   <td>   -0.9986</td> <td>    0.004</td> <td> -283.840</td> <td> 0.000</td> <td>   -1.005</td> <td>   -0.992</td>\n",
       "</tr>\n",
       "<tr>\n",
       "  <th>sigma2</th>    <td>  126.0051</td> <td>    1.809</td> <td>   69.639</td> <td> 0.000</td> <td>  122.459</td> <td>  129.551</td>\n",
       "</tr>\n",
       "</table>\n",
       "<table class=\"simpletable\">\n",
       "<tr>\n",
       "  <th>Ljung-Box (Q):</th>          <td>1129.92</td> <th>  Jarque-Bera (JB):  </th> <td>483.16</td>\n",
       "</tr>\n",
       "<tr>\n",
       "  <th>Prob(Q):</th>                 <td>0.00</td>   <th>  Prob(JB):          </th>  <td>0.00</td> \n",
       "</tr>\n",
       "<tr>\n",
       "  <th>Heteroskedasticity (H):</th>  <td>0.85</td>   <th>  Skew:              </th>  <td>0.03</td> \n",
       "</tr>\n",
       "<tr>\n",
       "  <th>Prob(H) (two-sided):</th>     <td>0.00</td>   <th>  Kurtosis:          </th>  <td>4.41</td> \n",
       "</tr>\n",
       "</table><br/><br/>Warnings:<br/>[1] Covariance matrix calculated using the outer product of gradients (complex-step)."
      ],
      "text/plain": [
       "<class 'statsmodels.iolib.summary.Summary'>\n",
       "\"\"\"\n",
       "                                      SARIMAX Results                                      \n",
       "===========================================================================================\n",
       "Dep. Variable:                           Call Type   No. Observations:                 5840\n",
       "Model:             SARIMAX(0, 1, 0)x(3, 1, [1], 8)   Log Likelihood              -22396.672\n",
       "Date:                             Thu, 27 Aug 2020   AIC                          44805.343\n",
       "Time:                                     21:21:34   BIC                          44845.369\n",
       "Sample:                                 08-16-2016   HQIC                         44819.263\n",
       "                                      - 08-15-2018                                         \n",
       "Covariance Type:                               opg                                         \n",
       "==============================================================================\n",
       "                 coef    std err          z      P>|z|      [0.025      0.975]\n",
       "------------------------------------------------------------------------------\n",
       "intercept  -3.244e-05      0.001     -0.042      0.966      -0.002       0.001\n",
       "ar.S.L8        0.0485      0.012      4.020      0.000       0.025       0.072\n",
       "ar.S.L16      -0.0242      0.013     -1.869      0.062      -0.050       0.001\n",
       "ar.S.L24      -0.0457      0.013     -3.623      0.000      -0.070      -0.021\n",
       "ma.S.L8       -0.9986      0.004   -283.840      0.000      -1.005      -0.992\n",
       "sigma2       126.0051      1.809     69.639      0.000     122.459     129.551\n",
       "===================================================================================\n",
       "Ljung-Box (Q):                     1129.92   Jarque-Bera (JB):               483.16\n",
       "Prob(Q):                              0.00   Prob(JB):                         0.00\n",
       "Heteroskedasticity (H):               0.85   Skew:                             0.03\n",
       "Prob(H) (two-sided):                  0.00   Kurtosis:                         4.41\n",
       "===================================================================================\n",
       "\n",
       "Warnings:\n",
       "[1] Covariance matrix calculated using the outer product of gradients (complex-step).\n",
       "\"\"\""
      ]
     },
     "execution_count": 142,
     "metadata": {},
     "output_type": "execute_result"
    }
   ],
   "source": [
    "model_fit2.summary()"
   ]
  },
  {
   "cell_type": "code",
   "execution_count": 143,
   "metadata": {},
   "outputs": [],
   "source": [
    "y_hat = model_fit2.predict(len(df[19352:25192]), len(df[19352:25192])+56)"
   ]
  },
  {
   "cell_type": "code",
   "execution_count": 144,
   "metadata": {},
   "outputs": [
    {
     "data": {
      "text/plain": [
       "11.856563639077532"
      ]
     },
     "execution_count": 144,
     "metadata": {},
     "output_type": "execute_result"
    }
   ],
   "source": [
    "measure_rmse(actual['y'], y_hat[:-1])"
   ]
  },
  {
   "cell_type": "code",
   "execution_count": 139,
   "metadata": {},
   "outputs": [
    {
     "data": {
      "text/plain": [
       "<matplotlib.legend.Legend at 0x7f9f8df854a8>"
      ]
     },
     "execution_count": 139,
     "metadata": {},
     "output_type": "execute_result"
    },
    {
     "data": {
      "image/png": "[encoded data removed]",
      "text/plain": [
       "<Figure size 432x288 with 1 Axes>"
      ]
     },
     "metadata": {
      "needs_background": "light"
     },
     "output_type": "display_data"
    }
   ],
   "source": [
    "plt.plot(actual.index, actual['y'])\n",
    "plt.plot(actual.index, y_hat[:-1])\n",
    "plt.legend(['Actual','Pred'])"
   ]
  },
  {
   "cell_type": "code",
   "execution_count": 44,
   "metadata": {},
   "outputs": [
    {
     "data": {
      "text/html": [
       "<div>\n",
       "<style scoped>\n",
       "    .dataframe tbody tr th:only-of-type {\n",
       "        vertical-align: middle;\n",
       "    }\n",
       "\n",
       "    .dataframe tbody tr th {\n",
       "        vertical-align: top;\n",
       "    }\n",
       "\n",
       "    .dataframe thead th {\n",
       "        text-align: right;\n",
       "    }\n",
       "</style>\n",
       "<table border=\"1\" class=\"dataframe\">\n",
       "  <thead>\n",
       "    <tr style=\"text-align: right;\">\n",
       "      <th></th>\n",
       "      <th>Call Type</th>\n",
       "    </tr>\n",
       "    <tr>\n",
       "      <th>Received DtTm</th>\n",
       "      <th></th>\n",
       "    </tr>\n",
       "  </thead>\n",
       "  <tbody>\n",
       "    <tr>\n",
       "      <th>2016-01-01 00:00:00</th>\n",
       "      <td>147</td>\n",
       "    </tr>\n",
       "    <tr>\n",
       "      <th>2016-01-01 03:00:00</th>\n",
       "      <td>55</td>\n",
       "    </tr>\n",
       "    <tr>\n",
       "      <th>2016-01-01 06:00:00</th>\n",
       "      <td>42</td>\n",
       "    </tr>\n",
       "    <tr>\n",
       "      <th>2016-01-01 09:00:00</th>\n",
       "      <td>63</td>\n",
       "    </tr>\n",
       "    <tr>\n",
       "      <th>2016-01-01 12:00:00</th>\n",
       "      <td>51</td>\n",
       "    </tr>\n",
       "    <tr>\n",
       "      <th>...</th>\n",
       "      <td>...</td>\n",
       "    </tr>\n",
       "    <tr>\n",
       "      <th>2018-12-31 09:00:00</th>\n",
       "      <td>64</td>\n",
       "    </tr>\n",
       "    <tr>\n",
       "      <th>2018-12-31 12:00:00</th>\n",
       "      <td>63</td>\n",
       "    </tr>\n",
       "    <tr>\n",
       "      <th>2018-12-31 15:00:00</th>\n",
       "      <td>84</td>\n",
       "    </tr>\n",
       "    <tr>\n",
       "      <th>2018-12-31 18:00:00</th>\n",
       "      <td>62</td>\n",
       "    </tr>\n",
       "    <tr>\n",
       "      <th>2018-12-31 21:00:00</th>\n",
       "      <td>70</td>\n",
       "    </tr>\n",
       "  </tbody>\n",
       "</table>\n",
       "<p>8768 rows × 1 columns</p>\n",
       "</div>"
      ],
      "text/plain": [
       "                     Call Type\n",
       "Received DtTm                 \n",
       "2016-01-01 00:00:00        147\n",
       "2016-01-01 03:00:00         55\n",
       "2016-01-01 06:00:00         42\n",
       "2016-01-01 09:00:00         63\n",
       "2016-01-01 12:00:00         51\n",
       "...                        ...\n",
       "2018-12-31 09:00:00         64\n",
       "2018-12-31 12:00:00         63\n",
       "2018-12-31 15:00:00         84\n",
       "2018-12-31 18:00:00         62\n",
       "2018-12-31 21:00:00         70\n",
       "\n",
       "[8768 rows x 1 columns]"
      ]
     },
     "execution_count": 44,
     "metadata": {},
     "output_type": "execute_result"
    }
   ],
   "source": [
    "df[17528:26296]"
   ]
  },
  {
   "cell_type": "code",
   "execution_count": 57,
   "metadata": {},
   "outputs": [],
   "source": [
    "yhat = model_fit2.predict(len(df[17528:26296]), len(df[17528:26296])+24)"
   ]
  },
  {
   "cell_type": "markdown",
   "metadata": {},
   "source": [
    "## Prophet"
   ]
  },
  {
   "cell_type": "code",
   "execution_count": null,
   "metadata": {},
   "outputs": [],
   "source": [
    "!conda install -c conda-forge fbprophet --yes"
   ]
  },
  {
   "cell_type": "code",
   "execution_count": 61,
   "metadata": {},
   "outputs": [],
   "source": [
    "from fbprophet import Prophet"
   ]
  },
  {
   "cell_type": "code",
   "execution_count": 62,
   "metadata": {},
   "outputs": [],
   "source": [
    "m = Prophet()"
   ]
  },
  {
   "cell_type": "code",
   "execution_count": 66,
   "metadata": {},
   "outputs": [
    {
     "ename": "AttributeError",
     "evalue": "'DataFrame' object has no attribute 'indo'",
     "output_type": "error",
     "traceback": [
      "\u001b[0;31m---------------------------------------------------------------------------\u001b[0m",
      "\u001b[0;31mAttributeError\u001b[0m                            Traceback (most recent call last)",
      "\u001b[0;32m<ipython-input-66-701b3fac14c2>\u001b[0m in \u001b[0;36m<module>\u001b[0;34m\u001b[0m\n\u001b[1;32m      1\u001b[0m \u001b[0mdf_ds\u001b[0m \u001b[0;34m=\u001b[0m \u001b[0mdf\u001b[0m\u001b[0;34m.\u001b[0m\u001b[0mreset_index\u001b[0m\u001b[0;34m(\u001b[0m\u001b[0mlevel\u001b[0m\u001b[0;34m=\u001b[0m\u001b[0;36m0\u001b[0m\u001b[0;34m)\u001b[0m\u001b[0;34m\u001b[0m\u001b[0;34m\u001b[0m\u001b[0m\n\u001b[1;32m      2\u001b[0m \u001b[0mdf_ds\u001b[0m\u001b[0;34m.\u001b[0m\u001b[0mcolumns\u001b[0m \u001b[0;34m=\u001b[0m \u001b[0;34m[\u001b[0m\u001b[0;34m'ds'\u001b[0m\u001b[0;34m,\u001b[0m\u001b[0;34m'y'\u001b[0m\u001b[0;34m]\u001b[0m\u001b[0;34m\u001b[0m\u001b[0;34m\u001b[0m\u001b[0m\n\u001b[0;32m----> 3\u001b[0;31m \u001b[0mdf_ds\u001b[0m\u001b[0;34m.\u001b[0m\u001b[0mindo\u001b[0m\u001b[0;34m\u001b[0m\u001b[0;34m\u001b[0m\u001b[0m\n\u001b[0m",
      "\u001b[0;32m~/anaconda3/envs/python3/lib/python3.6/site-packages/pandas/core/generic.py\u001b[0m in \u001b[0;36m__getattr__\u001b[0;34m(self, name)\u001b[0m\n\u001b[1;32m   5272\u001b[0m             \u001b[0;32mif\u001b[0m \u001b[0mself\u001b[0m\u001b[0;34m.\u001b[0m\u001b[0m_info_axis\u001b[0m\u001b[0;34m.\u001b[0m\u001b[0m_can_hold_identifiers_and_holds_name\u001b[0m\u001b[0;34m(\u001b[0m\u001b[0mname\u001b[0m\u001b[0;34m)\u001b[0m\u001b[0;34m:\u001b[0m\u001b[0;34m\u001b[0m\u001b[0;34m\u001b[0m\u001b[0m\n\u001b[1;32m   5273\u001b[0m                 \u001b[0;32mreturn\u001b[0m \u001b[0mself\u001b[0m\u001b[0;34m[\u001b[0m\u001b[0mname\u001b[0m\u001b[0;34m]\u001b[0m\u001b[0;34m\u001b[0m\u001b[0;34m\u001b[0m\u001b[0m\n\u001b[0;32m-> 5274\u001b[0;31m             \u001b[0;32mreturn\u001b[0m \u001b[0mobject\u001b[0m\u001b[0;34m.\u001b[0m\u001b[0m__getattribute__\u001b[0m\u001b[0;34m(\u001b[0m\u001b[0mself\u001b[0m\u001b[0;34m,\u001b[0m \u001b[0mname\u001b[0m\u001b[0;34m)\u001b[0m\u001b[0;34m\u001b[0m\u001b[0;34m\u001b[0m\u001b[0m\n\u001b[0m\u001b[1;32m   5275\u001b[0m \u001b[0;34m\u001b[0m\u001b[0m\n\u001b[1;32m   5276\u001b[0m     \u001b[0;32mdef\u001b[0m \u001b[0m__setattr__\u001b[0m\u001b[0;34m(\u001b[0m\u001b[0mself\u001b[0m\u001b[0;34m,\u001b[0m \u001b[0mname\u001b[0m\u001b[0;34m:\u001b[0m \u001b[0mstr\u001b[0m\u001b[0;34m,\u001b[0m \u001b[0mvalue\u001b[0m\u001b[0;34m)\u001b[0m \u001b[0;34m->\u001b[0m \u001b[0;32mNone\u001b[0m\u001b[0;34m:\u001b[0m\u001b[0;34m\u001b[0m\u001b[0;34m\u001b[0m\u001b[0m\n",
      "\u001b[0;31mAttributeError\u001b[0m: 'DataFrame' object has no attribute 'indo'"
     ]
    }
   ],
   "source": [
    "df_ds = df.reset_index(level=0)\n",
    "df_ds.columns = ['ds','y']\n"
   ]
  },
  {
   "cell_type": "code",
   "execution_count": 68,
   "metadata": {},
   "outputs": [
    {
     "data": {
      "text/html": [
       "<div>\n",
       "<style scoped>\n",
       "    .dataframe tbody tr th:only-of-type {\n",
       "        vertical-align: middle;\n",
       "    }\n",
       "\n",
       "    .dataframe tbody tr th {\n",
       "        vertical-align: top;\n",
       "    }\n",
       "\n",
       "    .dataframe thead th {\n",
       "        text-align: right;\n",
       "    }\n",
       "</style>\n",
       "<table border=\"1\" class=\"dataframe\">\n",
       "  <thead>\n",
       "    <tr style=\"text-align: right;\">\n",
       "      <th></th>\n",
       "      <th>ds</th>\n",
       "      <th>y</th>\n",
       "    </tr>\n",
       "  </thead>\n",
       "  <tbody>\n",
       "    <tr>\n",
       "      <th>19352</th>\n",
       "      <td>2016-08-16</td>\n",
       "      <td>29</td>\n",
       "    </tr>\n",
       "  </tbody>\n",
       "</table>\n",
       "</div>"
      ],
      "text/plain": [
       "              ds   y\n",
       "19352 2016-08-16  29"
      ]
     },
     "execution_count": 68,
     "metadata": {},
     "output_type": "execute_result"
    }
   ],
   "source": [
    "df_ds[df_ds['ds'] == '2016-08-16 00:00:00']"
   ]
  },
  {
   "cell_type": "code",
   "execution_count": 69,
   "metadata": {},
   "outputs": [
    {
     "data": {
      "text/html": [
       "<div>\n",
       "<style scoped>\n",
       "    .dataframe tbody tr th:only-of-type {\n",
       "        vertical-align: middle;\n",
       "    }\n",
       "\n",
       "    .dataframe tbody tr th {\n",
       "        vertical-align: top;\n",
       "    }\n",
       "\n",
       "    .dataframe thead th {\n",
       "        text-align: right;\n",
       "    }\n",
       "</style>\n",
       "<table border=\"1\" class=\"dataframe\">\n",
       "  <thead>\n",
       "    <tr style=\"text-align: right;\">\n",
       "      <th></th>\n",
       "      <th>ds</th>\n",
       "      <th>y</th>\n",
       "    </tr>\n",
       "  </thead>\n",
       "  <tbody>\n",
       "    <tr>\n",
       "      <th>25192</th>\n",
       "      <td>2018-08-16</td>\n",
       "      <td>34</td>\n",
       "    </tr>\n",
       "  </tbody>\n",
       "</table>\n",
       "</div>"
      ],
      "text/plain": [
       "              ds   y\n",
       "25192 2018-08-16  34"
      ]
     },
     "execution_count": 69,
     "metadata": {},
     "output_type": "execute_result"
    }
   ],
   "source": [
    "df_ds[df_ds['ds'] == '2018-08-16 00:00:00']"
   ]
  },
  {
   "cell_type": "code",
   "execution_count": 72,
   "metadata": {},
   "outputs": [
    {
     "name": "stderr",
     "output_type": "stream",
     "text": [
      "INFO:fbprophet:Disabling yearly seasonality. Run prophet with yearly_seasonality=True to override this.\n"
     ]
    },
    {
     "data": {
      "text/plain": [
       "<fbprophet.forecaster.Prophet at 0x7fa0e805acc0>"
      ]
     },
     "execution_count": 72,
     "metadata": {},
     "output_type": "execute_result"
    }
   ],
   "source": [
    "m.fit(df_ds.iloc[19352:25192])"
   ]
  },
  {
   "cell_type": "code",
   "execution_count": 73,
   "metadata": {},
   "outputs": [
    {
     "data": {
      "text/html": [
       "<div>\n",
       "<style scoped>\n",
       "    .dataframe tbody tr th:only-of-type {\n",
       "        vertical-align: middle;\n",
       "    }\n",
       "\n",
       "    .dataframe tbody tr th {\n",
       "        vertical-align: top;\n",
       "    }\n",
       "\n",
       "    .dataframe thead th {\n",
       "        text-align: right;\n",
       "    }\n",
       "</style>\n",
       "<table border=\"1\" class=\"dataframe\">\n",
       "  <thead>\n",
       "    <tr style=\"text-align: right;\">\n",
       "      <th></th>\n",
       "      <th>ds</th>\n",
       "    </tr>\n",
       "  </thead>\n",
       "  <tbody>\n",
       "    <tr>\n",
       "      <th>0</th>\n",
       "      <td>2016-08-16 00:00:00</td>\n",
       "    </tr>\n",
       "    <tr>\n",
       "      <th>1</th>\n",
       "      <td>2016-08-16 03:00:00</td>\n",
       "    </tr>\n",
       "    <tr>\n",
       "      <th>2</th>\n",
       "      <td>2016-08-16 06:00:00</td>\n",
       "    </tr>\n",
       "    <tr>\n",
       "      <th>3</th>\n",
       "      <td>2016-08-16 09:00:00</td>\n",
       "    </tr>\n",
       "    <tr>\n",
       "      <th>4</th>\n",
       "      <td>2016-08-16 12:00:00</td>\n",
       "    </tr>\n",
       "    <tr>\n",
       "      <th>...</th>\n",
       "      <td>...</td>\n",
       "    </tr>\n",
       "    <tr>\n",
       "      <th>5891</th>\n",
       "      <td>2018-08-22 09:00:00</td>\n",
       "    </tr>\n",
       "    <tr>\n",
       "      <th>5892</th>\n",
       "      <td>2018-08-22 12:00:00</td>\n",
       "    </tr>\n",
       "    <tr>\n",
       "      <th>5893</th>\n",
       "      <td>2018-08-22 15:00:00</td>\n",
       "    </tr>\n",
       "    <tr>\n",
       "      <th>5894</th>\n",
       "      <td>2018-08-22 18:00:00</td>\n",
       "    </tr>\n",
       "    <tr>\n",
       "      <th>5895</th>\n",
       "      <td>2018-08-22 21:00:00</td>\n",
       "    </tr>\n",
       "  </tbody>\n",
       "</table>\n",
       "<p>5896 rows × 1 columns</p>\n",
       "</div>"
      ],
      "text/plain": [
       "                      ds\n",
       "0    2016-08-16 00:00:00\n",
       "1    2016-08-16 03:00:00\n",
       "2    2016-08-16 06:00:00\n",
       "3    2016-08-16 09:00:00\n",
       "4    2016-08-16 12:00:00\n",
       "...                  ...\n",
       "5891 2018-08-22 09:00:00\n",
       "5892 2018-08-22 12:00:00\n",
       "5893 2018-08-22 15:00:00\n",
       "5894 2018-08-22 18:00:00\n",
       "5895 2018-08-22 21:00:00\n",
       "\n",
       "[5896 rows x 1 columns]"
      ]
     },
     "execution_count": 73,
     "metadata": {},
     "output_type": "execute_result"
    }
   ],
   "source": [
    "future=m.make_future_dataframe(periods=56, freq='3H')\n",
    "future"
   ]
  },
  {
   "cell_type": "code",
   "execution_count": 74,
   "metadata": {},
   "outputs": [],
   "source": [
    "forecast = m.predict(future)"
   ]
  },
  {
   "cell_type": "code",
   "execution_count": 169,
   "metadata": {},
   "outputs": [
    {
     "data": {
      "image/png": "[encoded data removed]",
      "text/plain": [
       "<Figure size 720x432 with 1 Axes>"
      ]
     },
     "metadata": {},
     "output_type": "display_data"
    }
   ],
   "source": [
    "fig1 = m.plot(forecast)\n",
    "plt.savefig('2yrprophet.png')"
   ]
  },
  {
   "cell_type": "code",
   "execution_count": 76,
   "metadata": {},
   "outputs": [
    {
     "data": {
      "image/png": "[encoded data removed]",
      "text/plain": [
       "<Figure size 648x648 with 3 Axes>"
      ]
     },
     "metadata": {},
     "output_type": "display_data"
    }
   ],
   "source": [
    "fig2 = m.plot_components(forecast)"
   ]
  },
  {
   "cell_type": "code",
   "execution_count": 81,
   "metadata": {},
   "outputs": [
    {
     "data": {
      "text/plain": [
       "22405"
      ]
     },
     "execution_count": 81,
     "metadata": {},
     "output_type": "execute_result"
    }
   ],
   "source": [
    "df_ds.iloc[19352:25192]['y'].idxmax()"
   ]
  },
  {
   "cell_type": "code",
   "execution_count": 83,
   "metadata": {},
   "outputs": [
    {
     "data": {
      "text/html": [
       "<div>\n",
       "<style scoped>\n",
       "    .dataframe tbody tr th:only-of-type {\n",
       "        vertical-align: middle;\n",
       "    }\n",
       "\n",
       "    .dataframe tbody tr th {\n",
       "        vertical-align: top;\n",
       "    }\n",
       "\n",
       "    .dataframe thead th {\n",
       "        text-align: right;\n",
       "    }\n",
       "</style>\n",
       "<table border=\"1\" class=\"dataframe\">\n",
       "  <thead>\n",
       "    <tr style=\"text-align: right;\">\n",
       "      <th></th>\n",
       "      <th>ds</th>\n",
       "      <th>y</th>\n",
       "    </tr>\n",
       "  </thead>\n",
       "  <tbody>\n",
       "    <tr>\n",
       "      <th>22401</th>\n",
       "      <td>2017-09-01 03:00:00</td>\n",
       "      <td>27</td>\n",
       "    </tr>\n",
       "    <tr>\n",
       "      <th>22402</th>\n",
       "      <td>2017-09-01 06:00:00</td>\n",
       "      <td>43</td>\n",
       "    </tr>\n",
       "    <tr>\n",
       "      <th>22403</th>\n",
       "      <td>2017-09-01 09:00:00</td>\n",
       "      <td>94</td>\n",
       "    </tr>\n",
       "    <tr>\n",
       "      <th>22404</th>\n",
       "      <td>2017-09-01 12:00:00</td>\n",
       "      <td>152</td>\n",
       "    </tr>\n",
       "    <tr>\n",
       "      <th>22405</th>\n",
       "      <td>2017-09-01 15:00:00</td>\n",
       "      <td>180</td>\n",
       "    </tr>\n",
       "    <tr>\n",
       "      <th>22406</th>\n",
       "      <td>2017-09-01 18:00:00</td>\n",
       "      <td>124</td>\n",
       "    </tr>\n",
       "    <tr>\n",
       "      <th>22407</th>\n",
       "      <td>2017-09-01 21:00:00</td>\n",
       "      <td>86</td>\n",
       "    </tr>\n",
       "    <tr>\n",
       "      <th>22408</th>\n",
       "      <td>2017-09-02 00:00:00</td>\n",
       "      <td>58</td>\n",
       "    </tr>\n",
       "  </tbody>\n",
       "</table>\n",
       "</div>"
      ],
      "text/plain": [
       "                       ds    y\n",
       "22401 2017-09-01 03:00:00   27\n",
       "22402 2017-09-01 06:00:00   43\n",
       "22403 2017-09-01 09:00:00   94\n",
       "22404 2017-09-01 12:00:00  152\n",
       "22405 2017-09-01 15:00:00  180\n",
       "22406 2017-09-01 18:00:00  124\n",
       "22407 2017-09-01 21:00:00   86\n",
       "22408 2017-09-02 00:00:00   58"
      ]
     },
     "execution_count": 83,
     "metadata": {},
     "output_type": "execute_result"
    }
   ],
   "source": [
    "df_ds.iloc[22401:22409]"
   ]
  },
  {
   "cell_type": "code",
   "execution_count": 84,
   "metadata": {},
   "outputs": [
    {
     "data": {
      "text/html": [
       "<div>\n",
       "<style scoped>\n",
       "    .dataframe tbody tr th:only-of-type {\n",
       "        vertical-align: middle;\n",
       "    }\n",
       "\n",
       "    .dataframe tbody tr th {\n",
       "        vertical-align: top;\n",
       "    }\n",
       "\n",
       "    .dataframe thead th {\n",
       "        text-align: right;\n",
       "    }\n",
       "</style>\n",
       "<table border=\"1\" class=\"dataframe\">\n",
       "  <thead>\n",
       "    <tr style=\"text-align: right;\">\n",
       "      <th></th>\n",
       "      <th>ds</th>\n",
       "      <th>trend</th>\n",
       "      <th>yhat_lower</th>\n",
       "      <th>yhat_upper</th>\n",
       "      <th>trend_lower</th>\n",
       "      <th>trend_upper</th>\n",
       "      <th>additive_terms</th>\n",
       "      <th>additive_terms_lower</th>\n",
       "      <th>additive_terms_upper</th>\n",
       "      <th>daily</th>\n",
       "      <th>daily_lower</th>\n",
       "      <th>daily_upper</th>\n",
       "      <th>weekly</th>\n",
       "      <th>weekly_lower</th>\n",
       "      <th>weekly_upper</th>\n",
       "      <th>multiplicative_terms</th>\n",
       "      <th>multiplicative_terms_lower</th>\n",
       "      <th>multiplicative_terms_upper</th>\n",
       "      <th>yhat</th>\n",
       "    </tr>\n",
       "  </thead>\n",
       "  <tbody>\n",
       "    <tr>\n",
       "      <th>0</th>\n",
       "      <td>2016-08-16 00:00:00</td>\n",
       "      <td>48.268856</td>\n",
       "      <td>21.426373</td>\n",
       "      <td>46.185365</td>\n",
       "      <td>48.268856</td>\n",
       "      <td>48.268856</td>\n",
       "      <td>-14.748553</td>\n",
       "      <td>-14.748553</td>\n",
       "      <td>-14.748553</td>\n",
       "      <td>-14.134014</td>\n",
       "      <td>-14.134014</td>\n",
       "      <td>-14.134014</td>\n",
       "      <td>-0.614540</td>\n",
       "      <td>-0.614540</td>\n",
       "      <td>-0.614540</td>\n",
       "      <td>0.0</td>\n",
       "      <td>0.0</td>\n",
       "      <td>0.0</td>\n",
       "      <td>33.520303</td>\n",
       "    </tr>\n",
       "    <tr>\n",
       "      <th>1</th>\n",
       "      <td>2016-08-16 03:00:00</td>\n",
       "      <td>48.272424</td>\n",
       "      <td>9.794179</td>\n",
       "      <td>33.980549</td>\n",
       "      <td>48.272424</td>\n",
       "      <td>48.272424</td>\n",
       "      <td>-25.897668</td>\n",
       "      <td>-25.897668</td>\n",
       "      <td>-25.897668</td>\n",
       "      <td>-25.249472</td>\n",
       "      <td>-25.249472</td>\n",
       "      <td>-25.249472</td>\n",
       "      <td>-0.648196</td>\n",
       "      <td>-0.648196</td>\n",
       "      <td>-0.648196</td>\n",
       "      <td>0.0</td>\n",
       "      <td>0.0</td>\n",
       "      <td>0.0</td>\n",
       "      <td>22.374755</td>\n",
       "    </tr>\n",
       "    <tr>\n",
       "      <th>2</th>\n",
       "      <td>2016-08-16 06:00:00</td>\n",
       "      <td>48.275991</td>\n",
       "      <td>23.958626</td>\n",
       "      <td>47.635367</td>\n",
       "      <td>48.275991</td>\n",
       "      <td>48.275991</td>\n",
       "      <td>-12.491116</td>\n",
       "      <td>-12.491116</td>\n",
       "      <td>-12.491116</td>\n",
       "      <td>-11.803374</td>\n",
       "      <td>-11.803374</td>\n",
       "      <td>-11.803374</td>\n",
       "      <td>-0.687742</td>\n",
       "      <td>-0.687742</td>\n",
       "      <td>-0.687742</td>\n",
       "      <td>0.0</td>\n",
       "      <td>0.0</td>\n",
       "      <td>0.0</td>\n",
       "      <td>35.784875</td>\n",
       "    </tr>\n",
       "    <tr>\n",
       "      <th>3</th>\n",
       "      <td>2016-08-16 09:00:00</td>\n",
       "      <td>48.279558</td>\n",
       "      <td>45.908136</td>\n",
       "      <td>70.321577</td>\n",
       "      <td>48.279558</td>\n",
       "      <td>48.279558</td>\n",
       "      <td>9.436170</td>\n",
       "      <td>9.436170</td>\n",
       "      <td>9.436170</td>\n",
       "      <td>10.157931</td>\n",
       "      <td>10.157931</td>\n",
       "      <td>10.157931</td>\n",
       "      <td>-0.721760</td>\n",
       "      <td>-0.721760</td>\n",
       "      <td>-0.721760</td>\n",
       "      <td>0.0</td>\n",
       "      <td>0.0</td>\n",
       "      <td>0.0</td>\n",
       "      <td>57.715728</td>\n",
       "    </tr>\n",
       "    <tr>\n",
       "      <th>4</th>\n",
       "      <td>2016-08-16 12:00:00</td>\n",
       "      <td>48.283125</td>\n",
       "      <td>51.073426</td>\n",
       "      <td>74.369709</td>\n",
       "      <td>48.283125</td>\n",
       "      <td>48.283125</td>\n",
       "      <td>14.146551</td>\n",
       "      <td>14.146551</td>\n",
       "      <td>14.146551</td>\n",
       "      <td>14.887602</td>\n",
       "      <td>14.887602</td>\n",
       "      <td>14.887602</td>\n",
       "      <td>-0.741051</td>\n",
       "      <td>-0.741051</td>\n",
       "      <td>-0.741051</td>\n",
       "      <td>0.0</td>\n",
       "      <td>0.0</td>\n",
       "      <td>0.0</td>\n",
       "      <td>62.429677</td>\n",
       "    </tr>\n",
       "    <tr>\n",
       "      <th>...</th>\n",
       "      <td>...</td>\n",
       "      <td>...</td>\n",
       "      <td>...</td>\n",
       "      <td>...</td>\n",
       "      <td>...</td>\n",
       "      <td>...</td>\n",
       "      <td>...</td>\n",
       "      <td>...</td>\n",
       "      <td>...</td>\n",
       "      <td>...</td>\n",
       "      <td>...</td>\n",
       "      <td>...</td>\n",
       "      <td>...</td>\n",
       "      <td>...</td>\n",
       "      <td>...</td>\n",
       "      <td>...</td>\n",
       "      <td>...</td>\n",
       "      <td>...</td>\n",
       "      <td>...</td>\n",
       "    </tr>\n",
       "    <tr>\n",
       "      <th>5891</th>\n",
       "      <td>2018-08-22 09:00:00</td>\n",
       "      <td>50.579481</td>\n",
       "      <td>48.739487</td>\n",
       "      <td>72.864717</td>\n",
       "      <td>50.579481</td>\n",
       "      <td>50.579787</td>\n",
       "      <td>9.704824</td>\n",
       "      <td>9.704824</td>\n",
       "      <td>9.704824</td>\n",
       "      <td>10.157931</td>\n",
       "      <td>10.157931</td>\n",
       "      <td>10.157931</td>\n",
       "      <td>-0.453107</td>\n",
       "      <td>-0.453107</td>\n",
       "      <td>-0.453107</td>\n",
       "      <td>0.0</td>\n",
       "      <td>0.0</td>\n",
       "      <td>0.0</td>\n",
       "      <td>60.284304</td>\n",
       "    </tr>\n",
       "    <tr>\n",
       "      <th>5892</th>\n",
       "      <td>2018-08-22 12:00:00</td>\n",
       "      <td>50.578916</td>\n",
       "      <td>52.604177</td>\n",
       "      <td>77.935242</td>\n",
       "      <td>50.578916</td>\n",
       "      <td>50.579313</td>\n",
       "      <td>14.458153</td>\n",
       "      <td>14.458153</td>\n",
       "      <td>14.458153</td>\n",
       "      <td>14.887602</td>\n",
       "      <td>14.887602</td>\n",
       "      <td>14.887602</td>\n",
       "      <td>-0.429449</td>\n",
       "      <td>-0.429449</td>\n",
       "      <td>-0.429449</td>\n",
       "      <td>0.0</td>\n",
       "      <td>0.0</td>\n",
       "      <td>0.0</td>\n",
       "      <td>65.037070</td>\n",
       "    </tr>\n",
       "    <tr>\n",
       "      <th>5893</th>\n",
       "      <td>2018-08-22 15:00:00</td>\n",
       "      <td>50.578352</td>\n",
       "      <td>54.034808</td>\n",
       "      <td>77.407345</td>\n",
       "      <td>50.578351</td>\n",
       "      <td>50.578794</td>\n",
       "      <td>15.385362</td>\n",
       "      <td>15.385362</td>\n",
       "      <td>15.385362</td>\n",
       "      <td>15.814660</td>\n",
       "      <td>15.814660</td>\n",
       "      <td>15.814660</td>\n",
       "      <td>-0.429298</td>\n",
       "      <td>-0.429298</td>\n",
       "      <td>-0.429298</td>\n",
       "      <td>0.0</td>\n",
       "      <td>0.0</td>\n",
       "      <td>0.0</td>\n",
       "      <td>65.963714</td>\n",
       "    </tr>\n",
       "    <tr>\n",
       "      <th>5894</th>\n",
       "      <td>2018-08-22 18:00:00</td>\n",
       "      <td>50.577788</td>\n",
       "      <td>48.630440</td>\n",
       "      <td>73.069431</td>\n",
       "      <td>50.577729</td>\n",
       "      <td>50.578530</td>\n",
       "      <td>10.627231</td>\n",
       "      <td>10.627231</td>\n",
       "      <td>10.627231</td>\n",
       "      <td>11.078578</td>\n",
       "      <td>11.078578</td>\n",
       "      <td>11.078578</td>\n",
       "      <td>-0.451347</td>\n",
       "      <td>-0.451347</td>\n",
       "      <td>-0.451347</td>\n",
       "      <td>0.0</td>\n",
       "      <td>0.0</td>\n",
       "      <td>0.0</td>\n",
       "      <td>61.205019</td>\n",
       "    </tr>\n",
       "    <tr>\n",
       "      <th>5895</th>\n",
       "      <td>2018-08-22 21:00:00</td>\n",
       "      <td>50.577224</td>\n",
       "      <td>37.609295</td>\n",
       "      <td>60.980127</td>\n",
       "      <td>50.577022</td>\n",
       "      <td>50.578119</td>\n",
       "      <td>-1.241331</td>\n",
       "      <td>-1.241331</td>\n",
       "      <td>-1.241331</td>\n",
       "      <td>-0.751911</td>\n",
       "      <td>-0.751911</td>\n",
       "      <td>-0.751911</td>\n",
       "      <td>-0.489420</td>\n",
       "      <td>-0.489420</td>\n",
       "      <td>-0.489420</td>\n",
       "      <td>0.0</td>\n",
       "      <td>0.0</td>\n",
       "      <td>0.0</td>\n",
       "      <td>49.335893</td>\n",
       "    </tr>\n",
       "  </tbody>\n",
       "</table>\n",
       "<p>5896 rows × 19 columns</p>\n",
       "</div>"
      ],
      "text/plain": [
       "                      ds      trend  yhat_lower  yhat_upper  trend_lower  \\\n",
       "0    2016-08-16 00:00:00  48.268856   21.426373   46.185365    48.268856   \n",
       "1    2016-08-16 03:00:00  48.272424    9.794179   33.980549    48.272424   \n",
       "2    2016-08-16 06:00:00  48.275991   23.958626   47.635367    48.275991   \n",
       "3    2016-08-16 09:00:00  48.279558   45.908136   70.321577    48.279558   \n",
       "4    2016-08-16 12:00:00  48.283125   51.073426   74.369709    48.283125   \n",
       "...                  ...        ...         ...         ...          ...   \n",
       "5891 2018-08-22 09:00:00  50.579481   48.739487   72.864717    50.579481   \n",
       "5892 2018-08-22 12:00:00  50.578916   52.604177   77.935242    50.578916   \n",
       "5893 2018-08-22 15:00:00  50.578352   54.034808   77.407345    50.578351   \n",
       "5894 2018-08-22 18:00:00  50.577788   48.630440   73.069431    50.577729   \n",
       "5895 2018-08-22 21:00:00  50.577224   37.609295   60.980127    50.577022   \n",
       "\n",
       "      trend_upper  additive_terms  additive_terms_lower  additive_terms_upper  \\\n",
       "0       48.268856      -14.748553            -14.748553            -14.748553   \n",
       "1       48.272424      -25.897668            -25.897668            -25.897668   \n",
       "2       48.275991      -12.491116            -12.491116            -12.491116   \n",
       "3       48.279558        9.436170              9.436170              9.436170   \n",
       "4       48.283125       14.146551             14.146551             14.146551   \n",
       "...           ...             ...                   ...                   ...   \n",
       "5891    50.579787        9.704824              9.704824              9.704824   \n",
       "5892    50.579313       14.458153             14.458153             14.458153   \n",
       "5893    50.578794       15.385362             15.385362             15.385362   \n",
       "5894    50.578530       10.627231             10.627231             10.627231   \n",
       "5895    50.578119       -1.241331             -1.241331             -1.241331   \n",
       "\n",
       "          daily  daily_lower  daily_upper    weekly  weekly_lower  \\\n",
       "0    -14.134014   -14.134014   -14.134014 -0.614540     -0.614540   \n",
       "1    -25.249472   -25.249472   -25.249472 -0.648196     -0.648196   \n",
       "2    -11.803374   -11.803374   -11.803374 -0.687742     -0.687742   \n",
       "3     10.157931    10.157931    10.157931 -0.721760     -0.721760   \n",
       "4     14.887602    14.887602    14.887602 -0.741051     -0.741051   \n",
       "...         ...          ...          ...       ...           ...   \n",
       "5891  10.157931    10.157931    10.157931 -0.453107     -0.453107   \n",
       "5892  14.887602    14.887602    14.887602 -0.429449     -0.429449   \n",
       "5893  15.814660    15.814660    15.814660 -0.429298     -0.429298   \n",
       "5894  11.078578    11.078578    11.078578 -0.451347     -0.451347   \n",
       "5895  -0.751911    -0.751911    -0.751911 -0.489420     -0.489420   \n",
       "\n",
       "      weekly_upper  multiplicative_terms  multiplicative_terms_lower  \\\n",
       "0        -0.614540                   0.0                         0.0   \n",
       "1        -0.648196                   0.0                         0.0   \n",
       "2        -0.687742                   0.0                         0.0   \n",
       "3        -0.721760                   0.0                         0.0   \n",
       "4        -0.741051                   0.0                         0.0   \n",
       "...            ...                   ...                         ...   \n",
       "5891     -0.453107                   0.0                         0.0   \n",
       "5892     -0.429449                   0.0                         0.0   \n",
       "5893     -0.429298                   0.0                         0.0   \n",
       "5894     -0.451347                   0.0                         0.0   \n",
       "5895     -0.489420                   0.0                         0.0   \n",
       "\n",
       "      multiplicative_terms_upper       yhat  \n",
       "0                            0.0  33.520303  \n",
       "1                            0.0  22.374755  \n",
       "2                            0.0  35.784875  \n",
       "3                            0.0  57.715728  \n",
       "4                            0.0  62.429677  \n",
       "...                          ...        ...  \n",
       "5891                         0.0  60.284304  \n",
       "5892                         0.0  65.037070  \n",
       "5893                         0.0  65.963714  \n",
       "5894                         0.0  61.205019  \n",
       "5895                         0.0  49.335893  \n",
       "\n",
       "[5896 rows x 19 columns]"
      ]
     },
     "execution_count": 84,
     "metadata": {},
     "output_type": "execute_result"
    }
   ],
   "source": [
    "forecast"
   ]
  },
  {
   "cell_type": "code",
   "execution_count": 105,
   "metadata": {},
   "outputs": [],
   "source": [
    "from math import sqrt\n",
    "from sklearn.metrics import mean_squared_error\n",
    "def measure_rmse(actual, predicted):\n",
    "    return sqrt(mean_squared_error(actual, predicted))"
   ]
  },
  {
   "cell_type": "code",
   "execution_count": 146,
   "metadata": {},
   "outputs": [],
   "source": [
    "actual= df_ds.iloc[25192-56:25192+56]"
   ]
  },
  {
   "cell_type": "code",
   "execution_count": 162,
   "metadata": {},
   "outputs": [
    {
     "data": {
      "text/html": [
       "<div>\n",
       "<style scoped>\n",
       "    .dataframe tbody tr th:only-of-type {\n",
       "        vertical-align: middle;\n",
       "    }\n",
       "\n",
       "    .dataframe tbody tr th {\n",
       "        vertical-align: top;\n",
       "    }\n",
       "\n",
       "    .dataframe thead th {\n",
       "        text-align: right;\n",
       "    }\n",
       "</style>\n",
       "<table border=\"1\" class=\"dataframe\">\n",
       "  <thead>\n",
       "    <tr style=\"text-align: right;\">\n",
       "      <th></th>\n",
       "      <th>ds</th>\n",
       "      <th>y</th>\n",
       "    </tr>\n",
       "  </thead>\n",
       "  <tbody>\n",
       "    <tr>\n",
       "      <th>25136</th>\n",
       "      <td>2018-08-09 00:00:00</td>\n",
       "      <td>34</td>\n",
       "    </tr>\n",
       "    <tr>\n",
       "      <th>25137</th>\n",
       "      <td>2018-08-09 03:00:00</td>\n",
       "      <td>24</td>\n",
       "    </tr>\n",
       "    <tr>\n",
       "      <th>25138</th>\n",
       "      <td>2018-08-09 06:00:00</td>\n",
       "      <td>39</td>\n",
       "    </tr>\n",
       "    <tr>\n",
       "      <th>25139</th>\n",
       "      <td>2018-08-09 09:00:00</td>\n",
       "      <td>55</td>\n",
       "    </tr>\n",
       "    <tr>\n",
       "      <th>25140</th>\n",
       "      <td>2018-08-09 12:00:00</td>\n",
       "      <td>70</td>\n",
       "    </tr>\n",
       "    <tr>\n",
       "      <th>...</th>\n",
       "      <td>...</td>\n",
       "      <td>...</td>\n",
       "    </tr>\n",
       "    <tr>\n",
       "      <th>25243</th>\n",
       "      <td>2018-08-22 09:00:00</td>\n",
       "      <td>64</td>\n",
       "    </tr>\n",
       "    <tr>\n",
       "      <th>25244</th>\n",
       "      <td>2018-08-22 12:00:00</td>\n",
       "      <td>67</td>\n",
       "    </tr>\n",
       "    <tr>\n",
       "      <th>25245</th>\n",
       "      <td>2018-08-22 15:00:00</td>\n",
       "      <td>64</td>\n",
       "    </tr>\n",
       "    <tr>\n",
       "      <th>25246</th>\n",
       "      <td>2018-08-22 18:00:00</td>\n",
       "      <td>63</td>\n",
       "    </tr>\n",
       "    <tr>\n",
       "      <th>25247</th>\n",
       "      <td>2018-08-22 21:00:00</td>\n",
       "      <td>56</td>\n",
       "    </tr>\n",
       "  </tbody>\n",
       "</table>\n",
       "<p>112 rows × 2 columns</p>\n",
       "</div>"
      ],
      "text/plain": [
       "                       ds   y\n",
       "25136 2018-08-09 00:00:00  34\n",
       "25137 2018-08-09 03:00:00  24\n",
       "25138 2018-08-09 06:00:00  39\n",
       "25139 2018-08-09 09:00:00  55\n",
       "25140 2018-08-09 12:00:00  70\n",
       "...                   ...  ..\n",
       "25243 2018-08-22 09:00:00  64\n",
       "25244 2018-08-22 12:00:00  67\n",
       "25245 2018-08-22 15:00:00  64\n",
       "25246 2018-08-22 18:00:00  63\n",
       "25247 2018-08-22 21:00:00  56\n",
       "\n",
       "[112 rows x 2 columns]"
      ]
     },
     "execution_count": 162,
     "metadata": {},
     "output_type": "execute_result"
    }
   ],
   "source": [
    "actual"
   ]
  },
  {
   "cell_type": "code",
   "execution_count": 147,
   "metadata": {},
   "outputs": [],
   "source": [
    "yhat = forecast.iloc[-112:]\n"
   ]
  },
  {
   "cell_type": "code",
   "execution_count": 106,
   "metadata": {},
   "outputs": [
    {
     "data": {
      "text/plain": [
       "7.2805292401834825"
      ]
     },
     "execution_count": 106,
     "metadata": {},
     "output_type": "execute_result"
    }
   ],
   "source": [
    "measure_rmse(actual['y'], yhat['yhat'])"
   ]
  },
  {
   "cell_type": "code",
   "execution_count": 98,
   "metadata": {},
   "outputs": [
    {
     "data": {
      "text/plain": [
       "56"
      ]
     },
     "execution_count": 98,
     "metadata": {},
     "output_type": "execute_result"
    }
   ],
   "source": [
    "len(actual)"
   ]
  },
  {
   "cell_type": "code",
   "execution_count": 168,
   "metadata": {},
   "outputs": [
    {
     "data": {
      "image/png": "[encoded data removed]",
      "text/plain": [
       "<Figure size 1080x504 with 1 Axes>"
      ]
     },
     "metadata": {
      "needs_background": "light"
     },
     "output_type": "display_data"
    }
   ],
   "source": [
    "fig, ax = plt.subplots(figsize=(15,7))\n",
    "ax.plot(actual.index, actual['y'])\n",
    "ax.plot(actual.index, yhat['yhat'])\n",
    "ax.tick_params(labelrotation=90)\n",
    "plt.legend(['Actual','Pred'])\n",
    "plt.xticks([x for x in range(25140,25252, 8)], ['Thu','Fri','Sat','Sun','Mon','Tues','Wed']*2)\n",
    "ax.set_title('Prophet Prediction - 2 Weeks at 3 Hour Intervals')\n",
    "plt.savefig('Proph_pred_week.png')"
   ]
  },
  {
   "cell_type": "code",
   "execution_count": 112,
   "metadata": {},
   "outputs": [
    {
     "data": {
      "text/plain": [
       "48.714285714285715"
      ]
     },
     "execution_count": 112,
     "metadata": {},
     "output_type": "execute_result"
    }
   ],
   "source": [
    "np.mean(actual['y'])"
   ]
  },
  {
   "cell_type": "code",
   "execution_count": 152,
   "metadata": {},
   "outputs": [
    {
     "data": {
      "text/plain": [
       "ds    2018-08-09 12:00:00\n",
       "y                      70\n",
       "Name: 25140, dtype: object"
      ]
     },
     "execution_count": 152,
     "metadata": {},
     "output_type": "execute_result"
    }
   ],
   "source": [
    "df_ds.iloc[25140]"
   ]
  },
  {
   "cell_type": "code",
   "execution_count": 167,
   "metadata": {},
   "outputs": [
    {
     "data": {
      "text/html": [
       "<div>\n",
       "<style scoped>\n",
       "    .dataframe tbody tr th:only-of-type {\n",
       "        vertical-align: middle;\n",
       "    }\n",
       "\n",
       "    .dataframe tbody tr th {\n",
       "        vertical-align: top;\n",
       "    }\n",
       "\n",
       "    .dataframe thead th {\n",
       "        text-align: right;\n",
       "    }\n",
       "</style>\n",
       "<table border=\"1\" class=\"dataframe\">\n",
       "  <thead>\n",
       "    <tr style=\"text-align: right;\">\n",
       "      <th></th>\n",
       "      <th>ds</th>\n",
       "      <th>y</th>\n",
       "    </tr>\n",
       "  </thead>\n",
       "  <tbody>\n",
       "    <tr>\n",
       "      <th>2920</th>\n",
       "      <td>2011-01-01 00:00:00</td>\n",
       "      <td>146</td>\n",
       "    </tr>\n",
       "    <tr>\n",
       "      <th>5840</th>\n",
       "      <td>2012-01-01 00:00:00</td>\n",
       "      <td>194</td>\n",
       "    </tr>\n",
       "    <tr>\n",
       "      <th>8768</th>\n",
       "      <td>2013-01-01 00:00:00</td>\n",
       "      <td>139</td>\n",
       "    </tr>\n",
       "    <tr>\n",
       "      <th>11688</th>\n",
       "      <td>2014-01-01 00:00:00</td>\n",
       "      <td>161</td>\n",
       "    </tr>\n",
       "    <tr>\n",
       "      <th>14442</th>\n",
       "      <td>2014-12-11 06:00:00</td>\n",
       "      <td>134</td>\n",
       "    </tr>\n",
       "    <tr>\n",
       "      <th>14608</th>\n",
       "      <td>2015-01-01 00:00:00</td>\n",
       "      <td>148</td>\n",
       "    </tr>\n",
       "    <tr>\n",
       "      <th>17528</th>\n",
       "      <td>2016-01-01 00:00:00</td>\n",
       "      <td>147</td>\n",
       "    </tr>\n",
       "    <tr>\n",
       "      <th>20515</th>\n",
       "      <td>2017-01-08 09:00:00</td>\n",
       "      <td>129</td>\n",
       "    </tr>\n",
       "    <tr>\n",
       "      <th>21339</th>\n",
       "      <td>2017-04-21 09:00:00</td>\n",
       "      <td>136</td>\n",
       "    </tr>\n",
       "    <tr>\n",
       "      <th>22404</th>\n",
       "      <td>2017-09-01 12:00:00</td>\n",
       "      <td>152</td>\n",
       "    </tr>\n",
       "    <tr>\n",
       "      <th>22405</th>\n",
       "      <td>2017-09-01 15:00:00</td>\n",
       "      <td>180</td>\n",
       "    </tr>\n",
       "    <tr>\n",
       "      <th>22412</th>\n",
       "      <td>2017-09-02 12:00:00</td>\n",
       "      <td>130</td>\n",
       "    </tr>\n",
       "    <tr>\n",
       "      <th>22413</th>\n",
       "      <td>2017-09-02 15:00:00</td>\n",
       "      <td>167</td>\n",
       "    </tr>\n",
       "    <tr>\n",
       "      <th>22414</th>\n",
       "      <td>2017-09-02 18:00:00</td>\n",
       "      <td>147</td>\n",
       "    </tr>\n",
       "    <tr>\n",
       "      <th>26422</th>\n",
       "      <td>2019-01-16 18:00:00</td>\n",
       "      <td>145</td>\n",
       "    </tr>\n",
       "    <tr>\n",
       "      <th>27580</th>\n",
       "      <td>2019-06-10 12:00:00</td>\n",
       "      <td>146</td>\n",
       "    </tr>\n",
       "    <tr>\n",
       "      <th>29021</th>\n",
       "      <td>2019-12-07 15:00:00</td>\n",
       "      <td>144</td>\n",
       "    </tr>\n",
       "  </tbody>\n",
       "</table>\n",
       "</div>"
      ],
      "text/plain": [
       "                       ds    y\n",
       "2920  2011-01-01 00:00:00  146\n",
       "5840  2012-01-01 00:00:00  194\n",
       "8768  2013-01-01 00:00:00  139\n",
       "11688 2014-01-01 00:00:00  161\n",
       "14442 2014-12-11 06:00:00  134\n",
       "14608 2015-01-01 00:00:00  148\n",
       "17528 2016-01-01 00:00:00  147\n",
       "20515 2017-01-08 09:00:00  129\n",
       "21339 2017-04-21 09:00:00  136\n",
       "22404 2017-09-01 12:00:00  152\n",
       "22405 2017-09-01 15:00:00  180\n",
       "22412 2017-09-02 12:00:00  130\n",
       "22413 2017-09-02 15:00:00  167\n",
       "22414 2017-09-02 18:00:00  147\n",
       "26422 2019-01-16 18:00:00  145\n",
       "27580 2019-06-10 12:00:00  146\n",
       "29021 2019-12-07 15:00:00  144"
      ]
     },
     "execution_count": 167,
     "metadata": {},
     "output_type": "execute_result"
    }
   ],
   "source": [
    "df_ds[df_ds['y'] > 125]"
   ]
  },
  {
   "cell_type": "code",
   "execution_count": null,
   "metadata": {},
   "outputs": [],
   "source": []
  },
  {
   "cell_type": "code",
   "execution_count": null,
   "metadata": {},
   "outputs": [],
   "source": []
  },
  {
   "cell_type": "markdown",
   "metadata": {},
   "source": [
    "### Using previous day as prediction"
   ]
  },
  {
   "cell_type": "code",
   "execution_count": 145,
   "metadata": {},
   "outputs": [
    {
     "data": {
      "text/plain": [
       "8.757139944068497"
      ]
     },
     "execution_count": 145,
     "metadata": {},
     "output_type": "execute_result"
    }
   ],
   "source": [
    "measure_rmse(actual['y'][8:], actual['y'][:-8])"
   ]
  },
  {
   "cell_type": "code",
   "execution_count": null,
   "metadata": {},
   "outputs": [],
   "source": [
    "fig, ax = plt.subplots(figsize=(15,7))\n"
   ]
  }
 ],
 "metadata": {
  "kernelspec": {
   "display_name": "conda_python3",
   "language": "python",
   "name": "conda_python3"
  },
  "language_info": {
   "codemirror_mode": {
    "name": "ipython",
    "version": 3
   },
   "file_extension": ".py",
   "mimetype": "text/x-python",
   "name": "python",
   "nbconvert_exporter": "python",
   "pygments_lexer": "ipython3",
   "version": "3.6.10"
  }
 },
 "nbformat": 4,
 "nbformat_minor": 4
}
